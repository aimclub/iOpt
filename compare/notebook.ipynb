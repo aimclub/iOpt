{
 "cells": [
  {
   "cell_type": "code",
   "execution_count": 43,
   "id": "b4c87d9d",
   "metadata": {},
   "outputs": [],
   "source": [
    "from data import loader\n",
    "import methods\n",
    "import warnings\n",
    "warnings.filterwarnings('ignore')\n",
    "\n",
    "from sklearn.svm import SVC\n",
    "from sklearn.neighbors import KNeighborsClassifier\n",
    "from sklearn.neural_network import MLPClassifier"
   ]
  },
  {
   "cell_type": "code",
   "execution_count": 44,
   "id": "2903f791",
   "metadata": {},
   "outputs": [],
   "source": [
    "datasets = loader.load_all_dataset()"
   ]
  },
  {
   "cell_type": "markdown",
   "id": "6a88eb44",
   "metadata": {},
   "source": [
    "# SVC"
   ]
  },
  {
   "cell_type": "code",
   "execution_count": 45,
   "id": "97c86cb2",
   "metadata": {},
   "outputs": [],
   "source": [
    "params = {\n",
    "    'gamma': (float, 1e-8, 1e-1),\n",
    "    'C': (float, 1e-2, 1e5)\n",
    "}"
   ]
  },
  {
   "cell_type": "code",
   "execution_count": 47,
   "id": "25e22315",
   "metadata": {},
   "outputs": [
    {
     "data": {
      "text/html": [
       "<div>\n",
       "<style scoped>\n",
       "    .dataframe tbody tr th:only-of-type {\n",
       "        vertical-align: middle;\n",
       "    }\n",
       "\n",
       "    .dataframe tbody tr th {\n",
       "        vertical-align: top;\n",
       "    }\n",
       "\n",
       "    .dataframe thead th {\n",
       "        text-align: right;\n",
       "    }\n",
       "</style>\n",
       "<table border=\"1\" class=\"dataframe\">\n",
       "  <thead>\n",
       "    <tr style=\"text-align: right;\">\n",
       "      <th></th>\n",
       "      <th>OptunaSearch</th>\n",
       "      <th>HyperOptSearch</th>\n",
       "      <th>iOptSearch</th>\n",
       "    </tr>\n",
       "  </thead>\n",
       "  <tbody>\n",
       "    <tr>\n",
       "      <th>Banknote</th>\n",
       "      <td>1.000000</td>\n",
       "      <td>1.000000</td>\n",
       "      <td>1.000000</td>\n",
       "    </tr>\n",
       "    <tr>\n",
       "      <th>BreastCancer</th>\n",
       "      <td>0.960399</td>\n",
       "      <td>0.960399</td>\n",
       "      <td>0.967825</td>\n",
       "    </tr>\n",
       "    <tr>\n",
       "      <th>CreditApproval</th>\n",
       "      <td>0.790105</td>\n",
       "      <td>0.791615</td>\n",
       "      <td>0.732308</td>\n",
       "    </tr>\n",
       "    <tr>\n",
       "      <th>Ecoli</th>\n",
       "      <td>0.867128</td>\n",
       "      <td>0.866895</td>\n",
       "      <td>0.867128</td>\n",
       "    </tr>\n",
       "    <tr>\n",
       "      <th>Balance</th>\n",
       "      <td>0.991969</td>\n",
       "      <td>0.991969</td>\n",
       "      <td>0.991969</td>\n",
       "    </tr>\n",
       "    <tr>\n",
       "      <th>Parkinsons</th>\n",
       "      <td>0.859591</td>\n",
       "      <td>0.859591</td>\n",
       "      <td>0.859591</td>\n",
       "    </tr>\n",
       "    <tr>\n",
       "      <th>Zoo</th>\n",
       "      <td>0.970952</td>\n",
       "      <td>0.972063</td>\n",
       "      <td>0.972063</td>\n",
       "    </tr>\n",
       "  </tbody>\n",
       "</table>\n",
       "</div>"
      ],
      "text/plain": [
       "                OptunaSearch  HyperOptSearch  iOptSearch\n",
       "Banknote            1.000000        1.000000    1.000000\n",
       "BreastCancer        0.960399        0.960399    0.967825\n",
       "CreditApproval      0.790105        0.791615    0.732308\n",
       "Ecoli               0.867128        0.866895    0.867128\n",
       "Balance             0.991969        0.991969    0.991969\n",
       "Parkinsons          0.859591        0.859591    0.859591\n",
       "Zoo                 0.970952        0.972063    0.972063"
      ]
     },
     "execution_count": 47,
     "metadata": {},
     "output_type": "execute_result"
    }
   ],
   "source": [
    "methods.compare_methods(SVC, params, datasets, max_iter=500)"
   ]
  },
  {
   "cell_type": "markdown",
   "id": "578c2058",
   "metadata": {},
   "source": [
    "# KNN"
   ]
  },
  {
   "cell_type": "code",
   "execution_count": 27,
   "id": "13d84fd1",
   "metadata": {},
   "outputs": [],
   "source": [
    "params = {\n",
    "    'n_neighbors': (int, 1, 50)\n",
    "}"
   ]
  },
  {
   "cell_type": "code",
   "execution_count": 28,
   "id": "97e4739b",
   "metadata": {},
   "outputs": [
    {
     "data": {
      "text/html": [
       "<div>\n",
       "<style scoped>\n",
       "    .dataframe tbody tr th:only-of-type {\n",
       "        vertical-align: middle;\n",
       "    }\n",
       "\n",
       "    .dataframe tbody tr th {\n",
       "        vertical-align: top;\n",
       "    }\n",
       "\n",
       "    .dataframe thead th {\n",
       "        text-align: right;\n",
       "    }\n",
       "</style>\n",
       "<table border=\"1\" class=\"dataframe\">\n",
       "  <thead>\n",
       "    <tr style=\"text-align: right;\">\n",
       "      <th></th>\n",
       "      <th>OptunaSearch</th>\n",
       "      <th>HyperOptSearch</th>\n",
       "      <th>iOptSearch</th>\n",
       "    </tr>\n",
       "  </thead>\n",
       "  <tbody>\n",
       "    <tr>\n",
       "      <th>Banknote</th>\n",
       "      <td>1.000000</td>\n",
       "      <td>1.000000</td>\n",
       "      <td>1.000000</td>\n",
       "    </tr>\n",
       "    <tr>\n",
       "      <th>BreastCancer</th>\n",
       "      <td>0.963951</td>\n",
       "      <td>0.961141</td>\n",
       "      <td>0.968017</td>\n",
       "    </tr>\n",
       "    <tr>\n",
       "      <th>CreditApproval</th>\n",
       "      <td>0.694899</td>\n",
       "      <td>0.697531</td>\n",
       "      <td>0.697531</td>\n",
       "    </tr>\n",
       "    <tr>\n",
       "      <th>Ecoli</th>\n",
       "      <td>0.860601</td>\n",
       "      <td>0.857524</td>\n",
       "      <td>0.868717</td>\n",
       "    </tr>\n",
       "    <tr>\n",
       "      <th>Balance</th>\n",
       "      <td>0.871988</td>\n",
       "      <td>0.870296</td>\n",
       "      <td>0.876815</td>\n",
       "    </tr>\n",
       "    <tr>\n",
       "      <th>Parkinsons</th>\n",
       "      <td>0.858649</td>\n",
       "      <td>0.845434</td>\n",
       "      <td>0.847234</td>\n",
       "    </tr>\n",
       "    <tr>\n",
       "      <th>Zoo</th>\n",
       "      <td>0.977619</td>\n",
       "      <td>0.953277</td>\n",
       "      <td>0.977619</td>\n",
       "    </tr>\n",
       "  </tbody>\n",
       "</table>\n",
       "</div>"
      ],
      "text/plain": [
       "                OptunaSearch  HyperOptSearch  iOptSearch\n",
       "Banknote            1.000000        1.000000    1.000000\n",
       "BreastCancer        0.963951        0.961141    0.968017\n",
       "CreditApproval      0.694899        0.697531    0.697531\n",
       "Ecoli               0.860601        0.857524    0.868717\n",
       "Balance             0.871988        0.870296    0.876815\n",
       "Parkinsons          0.858649        0.845434    0.847234\n",
       "Zoo                 0.977619        0.953277    0.977619"
      ]
     },
     "execution_count": 28,
     "metadata": {},
     "output_type": "execute_result"
    }
   ],
   "source": [
    "methods.compare_methods(KNeighborsClassifier, params, datasets, max_iter=10)"
   ]
  },
  {
   "cell_type": "markdown",
   "id": "71f0b56b",
   "metadata": {},
   "source": [
    "# MLP"
   ]
  },
  {
   "cell_type": "code",
   "execution_count": 48,
   "id": "671fb486",
   "metadata": {},
   "outputs": [],
   "source": [
    "params = {\n",
    "    'hidden_layer_sizes': (int, 1, 10),\n",
    "    'learning_rate_init': (float, 1e-3, 1e-1),\n",
    "    'momentum': (float, 1e-3, 1e-1),\n",
    "    'max_iter': (int, 10, 100)\n",
    "}"
   ]
  },
  {
   "cell_type": "code",
   "execution_count": 49,
   "id": "c0262b2b",
   "metadata": {},
   "outputs": [
    {
     "data": {
      "text/html": [
       "<div>\n",
       "<style scoped>\n",
       "    .dataframe tbody tr th:only-of-type {\n",
       "        vertical-align: middle;\n",
       "    }\n",
       "\n",
       "    .dataframe tbody tr th {\n",
       "        vertical-align: top;\n",
       "    }\n",
       "\n",
       "    .dataframe thead th {\n",
       "        text-align: right;\n",
       "    }\n",
       "</style>\n",
       "<table border=\"1\" class=\"dataframe\">\n",
       "  <thead>\n",
       "    <tr style=\"text-align: right;\">\n",
       "      <th></th>\n",
       "      <th>OptunaSearch</th>\n",
       "      <th>HyperOptSearch</th>\n",
       "      <th>iOptSearch</th>\n",
       "    </tr>\n",
       "  </thead>\n",
       "  <tbody>\n",
       "    <tr>\n",
       "      <th>Banknote</th>\n",
       "      <td>1.000000</td>\n",
       "      <td>1.000000</td>\n",
       "      <td>1.000000</td>\n",
       "    </tr>\n",
       "    <tr>\n",
       "      <th>BreastCancer</th>\n",
       "      <td>0.976482</td>\n",
       "      <td>0.977994</td>\n",
       "      <td>0.973701</td>\n",
       "    </tr>\n",
       "    <tr>\n",
       "      <th>CreditApproval</th>\n",
       "      <td>0.785743</td>\n",
       "      <td>0.787919</td>\n",
       "      <td>0.780375</td>\n",
       "    </tr>\n",
       "    <tr>\n",
       "      <th>Ecoli</th>\n",
       "      <td>0.880698</td>\n",
       "      <td>0.873216</td>\n",
       "      <td>0.865944</td>\n",
       "    </tr>\n",
       "    <tr>\n",
       "      <th>Balance</th>\n",
       "      <td>0.972742</td>\n",
       "      <td>0.957269</td>\n",
       "      <td>0.944869</td>\n",
       "    </tr>\n",
       "    <tr>\n",
       "      <th>Parkinsons</th>\n",
       "      <td>0.886864</td>\n",
       "      <td>0.887174</td>\n",
       "      <td>0.885678</td>\n",
       "    </tr>\n",
       "    <tr>\n",
       "      <th>Zoo</th>\n",
       "      <td>0.984444</td>\n",
       "      <td>0.984706</td>\n",
       "      <td>0.984444</td>\n",
       "    </tr>\n",
       "  </tbody>\n",
       "</table>\n",
       "</div>"
      ],
      "text/plain": [
       "                OptunaSearch  HyperOptSearch  iOptSearch\n",
       "Banknote            1.000000        1.000000    1.000000\n",
       "BreastCancer        0.976482        0.977994    0.973701\n",
       "CreditApproval      0.785743        0.787919    0.780375\n",
       "Ecoli               0.880698        0.873216    0.865944\n",
       "Balance             0.972742        0.957269    0.944869\n",
       "Parkinsons          0.886864        0.887174    0.885678\n",
       "Zoo                 0.984444        0.984706    0.984444"
      ]
     },
     "execution_count": 49,
     "metadata": {},
     "output_type": "execute_result"
    }
   ],
   "source": [
    "methods.compare_methods(MLPClassifier, params, datasets, max_iter=500)"
   ]
  },
  {
   "cell_type": "code",
   "execution_count": null,
   "id": "a442e4e9",
   "metadata": {},
   "outputs": [],
   "source": []
  }
 ],
 "metadata": {
  "kernelspec": {
   "display_name": "Python 3 (ipykernel)",
   "language": "python",
   "name": "python3"
  },
  "language_info": {
   "codemirror_mode": {
    "name": "ipython",
    "version": 3
   },
   "file_extension": ".py",
   "mimetype": "text/x-python",
   "name": "python",
   "nbconvert_exporter": "python",
   "pygments_lexer": "ipython3",
   "version": "3.8.11"
  }
 },
 "nbformat": 4,
 "nbformat_minor": 5
}
